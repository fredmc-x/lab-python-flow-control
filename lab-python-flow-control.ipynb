{
 "cells": [
  {
   "cell_type": "markdown",
   "id": "d3bfc191-8885-42ee-b0a0-bbab867c6f9f",
   "metadata": {
    "tags": []
   },
   "source": [
    "# Lab | Flow Control"
   ]
  },
  {
   "cell_type": "markdown",
   "id": "88f27997",
   "metadata": {},
   "source": [
    "## Exercise: Managing Customer Orders Optimized\n",
    "\n",
    "In the last lab, you were starting an online store that sells various products. To ensure smooth operations, you developed a program that manages customer orders and inventory.\n",
    "\n",
    "You did so without using flow control. Let's go a step further and improve this code.\n",
    "\n",
    "Follow the steps below to complete the exercise:\n",
    "\n",
    "1. Look at your code from the lab data structures, and improve repeated code with loops.\n",
    "\n",
    "2. Instead of asking the user to input the name of three products that a customer wants to order, do the following:\n",
    "    \n",
    "    a. Prompt the user to enter the name of a product that a customer wants to order.\n",
    "    \n",
    "    b. Add the product name to the \"customer_orders\" set.\n",
    "    \n",
    "    c. Ask the user if they want to add another product (yes/no).\n",
    "    \n",
    "    d. Continue the loop until the user does not want to add another product.\n",
    "\n",
    "3. Instead of updating the inventory by subtracting 1 from the quantity of each product, only do it for  the products that were ordered (those in \"customer_orders\")."
   ]
  },
  {
   "cell_type": "code",
   "execution_count": null,
   "id": "045a2bcd",
   "metadata": {},
   "outputs": [],
   "source": [
    "products=[\"t-shit\",\"mug\",\"hat\",\"book\",\"keychain\"]"
   ]
  },
  {
   "cell_type": "code",
   "execution_count": null,
   "id": "bac223e4",
   "metadata": {},
   "outputs": [],
   "source": [
    "inventory={}"
   ]
  },
  {
   "cell_type": "code",
   "execution_count": null,
   "id": "b54a6595",
   "metadata": {},
   "outputs": [],
   "source": [
    "for product in products:\n",
    "    quantity=int(input(f\"Please enter the quantity of each  product available in the {product}:\"))\n",
    "    inventory[product] = quantity"
   ]
  },
  {
   "cell_type": "code",
   "execution_count": null,
   "id": "3d56dd7f",
   "metadata": {},
   "outputs": [],
   "source": [
    "customer_orders=set()"
   ]
  },
  {
   "cell_type": "code",
   "execution_count": null,
   "id": "9c9a89e4",
   "metadata": {},
   "outputs": [],
   "source": [
    "for i in range(3):\n",
    "    order =input(f\"Enter  the name of the product you want to order  (options:{', '.join(products)}): \")\n",
    "    if order  in products:\n",
    "       customer_orders.add(order)\n",
    "    else:\n",
    "        print(\"invalid product ,  please choose another item of the list\")\n",
    "        "
   ]
  },
  {
   "cell_type": "code",
   "execution_count": null,
   "id": "0e1a4380",
   "metadata": {},
   "outputs": [],
   "source": [
    "print (customer_orders)"
   ]
  },
  {
   "cell_type": "code",
   "execution_count": null,
   "id": "cd884d1a",
   "metadata": {},
   "outputs": [],
   "source": [
    "total_products_ordered=len(customer_orders)\n",
    "percentage_of_products_ordered= (total_products_ordered / len(products))*100\n",
    "order_status=(total_products_ordered,percentage_of_products_ordered)"
   ]
  },
  {
   "cell_type": "code",
   "execution_count": null,
   "id": "44e01a73",
   "metadata": {},
   "outputs": [],
   "source": [
    "for product in customer_orders:\n",
    "    if inventory[product] > 0:\n",
    "         inventory[product] -= 1"
   ]
  },
  {
   "cell_type": "code",
   "execution_count": null,
   "id": "a37a24e2",
   "metadata": {},
   "outputs": [],
   "source": [
    "print(\"Inventory updated:\")\n",
    "for product, quantity in inventory.items():\n",
    "    print(f\"{product}: {quantity}\")"
   ]
  },
  {
   "cell_type": "code",
   "execution_count": null,
   "id": "92ed4caa",
   "metadata": {},
   "outputs": [],
   "source": [
    "#2. Instead of asking the user to input the name of three products that a customer wants to order, do the following:"
   ]
  },
  {
   "cell_type": "code",
   "execution_count": null,
   "id": "5ab54234",
   "metadata": {},
   "outputs": [],
   "source": [
    "# a. Prompt the user to enter the name of a product that a customer wants to order.\n",
    "      product_name = input(\"Ingrese el nombre del producto que desea pedir: \")"
   ]
  },
  {
   "cell_type": "code",
   "execution_count": null,
   "id": "cf3b6c11",
   "metadata": {},
   "outputs": [],
   "source": [
    "#b. Add the product name to the \"customer_orders\" set.\n",
    "customer_orders.add(product_name)"
   ]
  },
  {
   "cell_type": "code",
   "execution_count": null,
   "id": "892d1660",
   "metadata": {},
   "outputs": [],
   "source": [
    "#c. Ask the user if they want to add another product (yes/no).\n",
    "    otro_producto = input(\"¿Desea agregar otro producto? (yes/no): \").strip().lower()"
   ]
  },
  {
   "cell_type": "code",
   "execution_count": null,
   "id": "3d2f54a2",
   "metadata": {},
   "outputs": [],
   "source": [
    "#d. Continue the loop until the user does not want to add another product.\n",
    "if another != 'sí':\n",
    "        break  # Salir del bucle si la respuesta no es 'sí'"
   ]
  },
  {
   "cell_type": "code",
   "execution_count": null,
   "id": "cf83604d",
   "metadata": {},
   "outputs": [],
   "source": [
    "#3. Instead of updating the inventory by subtracting 1 from the quantity of each product, only do it for  the products that were ordered (those in \"customer_orders\").print(\"Productos ordenados:\")\n",
    "for product in customer_orders:\n",
    "    print(f\"- {product}\")"
   ]
  }
 ],
 "metadata": {
  "kernelspec": {
   "display_name": "Python 3 (ipykernel)",
   "language": "python",
   "name": "python3"
  },
  "language_info": {
   "codemirror_mode": {
    "name": "ipython",
    "version": 3
   },
   "file_extension": ".py",
   "mimetype": "text/x-python",
   "name": "python",
   "nbconvert_exporter": "python",
   "pygments_lexer": "ipython3",
   "version": "3.9.13"
  }
 },
 "nbformat": 4,
 "nbformat_minor": 5
}
